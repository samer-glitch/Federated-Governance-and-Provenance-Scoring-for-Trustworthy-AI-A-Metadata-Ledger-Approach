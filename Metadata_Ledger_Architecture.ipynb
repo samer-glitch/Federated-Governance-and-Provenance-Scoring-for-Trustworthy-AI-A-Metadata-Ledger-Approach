{
  "nbformat": 4,
  "nbformat_minor": 0,
  "metadata": {
    "colab": {
      "provenance": [],
      "authorship_tag": "ABX9TyN0f51wZkgeBfpoPdZW/5jY",
      "include_colab_link": true
    },
    "kernelspec": {
      "name": "python3",
      "display_name": "Python 3"
    },
    "language_info": {
      "name": "python"
    }
  },
  "cells": [
    {
      "cell_type": "markdown",
      "metadata": {
        "id": "view-in-github",
        "colab_type": "text"
      },
      "source": [
        "<a href=\"https://colab.research.google.com/github/samer-glitch/Federated-Governance-and-Provenance-Scoring-for-Trustworthy-AI-A-Metadata-Ledger-Approach/blob/main/Metadata_Ledger_Architecture.ipynb\" target=\"_parent\"><img src=\"https://colab.research.google.com/assets/colab-badge.svg\" alt=\"Open In Colab\"/></a>"
      ]
    },
    {
      "cell_type": "code",
      "execution_count": 6,
      "metadata": {
        "colab": {
          "base_uri": "https://localhost:8080/",
          "height": 324
        },
        "id": "ggy5PpQ4M_Gx",
        "outputId": "1f26172a-53e1-4746-a678-f463c2ca01ca"
      },
      "outputs": [
        {
          "output_type": "stream",
          "name": "stderr",
          "text": [
            "Warning: Orthogonal edges do not currently handle edge labels. Try using xlabels.\n"
          ]
        },
        {
          "output_type": "display_data",
          "data": {
            "text/plain": [
              "<IPython.core.display.SVG object>"
            ],
            "image/svg+xml": "<svg xmlns=\"http://www.w3.org/2000/svg\" xmlns:xlink=\"http://www.w3.org/1999/xlink\" width=\"285pt\" height=\"214pt\" viewBox=\"0.00 0.00 285.00 214.00\">\n<g id=\"graph0\" class=\"graph\" transform=\"scale(1 1) rotate(0) translate(4 210)\">\n<title>MetadataLedger</title>\n<polygon fill=\"white\" stroke=\"transparent\" points=\"-4,4 -4,-210 281,-210 281,4 -4,4\"/>\n<!-- A -->\n<g id=\"node1\" class=\"node\">\n<title>A</title>\n<path fill=\"lightgray\" stroke=\"black\" d=\"M79,-206C79,-206 12,-206 12,-206 6,-206 0,-200 0,-194 0,-194 0,-180 0,-180 0,-174 6,-168 12,-168 12,-168 79,-168 79,-168 85,-168 91,-174 91,-180 91,-180 91,-194 91,-194 91,-200 85,-206 79,-206\"/>\n<text text-anchor=\"middle\" x=\"45.5\" y=\"-190.8\" font-family=\"Times,serif\" font-size=\"14.00\">Client A</text>\n<text text-anchor=\"middle\" x=\"45.5\" y=\"-175.8\" font-family=\"Times,serif\" font-size=\"14.00\">Local Journal</text>\n</g>\n<!-- Hub -->\n<g id=\"node5\" class=\"node\">\n<title>Hub</title>\n<polygon fill=\"white\" stroke=\"black\" points=\"277,-144.5 274,-148.5 253,-148.5 250,-144.5 167,-144.5 167,-61.5 277,-61.5 277,-144.5\"/>\n<text text-anchor=\"middle\" x=\"222\" y=\"-129.3\" font-family=\"Times,serif\" font-size=\"14.00\">Hub-Side Ledger</text>\n<text text-anchor=\"middle\" x=\"222\" y=\"-114.3\" font-family=\"Times,serif\" font-size=\"14.00\">• Row 1</text>\n<text text-anchor=\"middle\" x=\"222\" y=\"-99.3\" font-family=\"Times,serif\" font-size=\"14.00\">• Row 2</text>\n<text text-anchor=\"middle\" x=\"222\" y=\"-84.3\" font-family=\"Times,serif\" font-size=\"14.00\">• ...</text>\n<text text-anchor=\"middle\" x=\"222\" y=\"-69.3\" font-family=\"Times,serif\" font-size=\"14.00\">• Row n</text>\n</g>\n<!-- A&#45;&gt;Hub -->\n<g id=\"edge1\" class=\"edge\">\n<title>A-&gt;Hub</title>\n<path fill=\"none\" stroke=\"black\" d=\"M91.41,-187C143.71,-187 222,-187 222,-187 222,-187 222,-154.51 222,-154.51\"/>\n<polygon fill=\"black\" stroke=\"black\" points=\"222,-144.51 226.5,-154.51 222,-149.51 222,-154.51 222,-154.51 222,-154.51 222,-149.51 217.5,-154.51 222,-144.51 222,-144.51\"/>\n<text text-anchor=\"middle\" x=\"129\" y=\"-190.8\" font-family=\"Times,serif\" font-size=\"14.00\">append</text>\n</g>\n<!-- B -->\n<g id=\"node2\" class=\"node\">\n<title>B</title>\n<path fill=\"lightgray\" stroke=\"black\" d=\"M79,-150C79,-150 12,-150 12,-150 6,-150 0,-144 0,-138 0,-138 0,-124 0,-124 0,-118 6,-112 12,-112 12,-112 79,-112 79,-112 85,-112 91,-118 91,-124 91,-124 91,-138 91,-138 91,-144 85,-150 79,-150\"/>\n<text text-anchor=\"middle\" x=\"45.5\" y=\"-134.8\" font-family=\"Times,serif\" font-size=\"14.00\">Client B</text>\n<text text-anchor=\"middle\" x=\"45.5\" y=\"-119.8\" font-family=\"Times,serif\" font-size=\"14.00\">Local Journal</text>\n</g>\n<!-- B&#45;&gt;Hub -->\n<g id=\"edge2\" class=\"edge\">\n<title>B-&gt;Hub</title>\n<path fill=\"none\" stroke=\"black\" d=\"M91.41,-128.25C91.41,-128.25 156.89,-128.25 156.89,-128.25\"/>\n<polygon fill=\"black\" stroke=\"black\" points=\"166.89,-128.25 156.89,-132.75 161.89,-128.25 156.89,-128.25 156.89,-128.25 156.89,-128.25 161.89,-128.25 156.89,-123.75 166.89,-128.25 166.89,-128.25\"/>\n<text text-anchor=\"middle\" x=\"129\" y=\"-134.8\" font-family=\"Times,serif\" font-size=\"14.00\">append</text>\n</g>\n<!-- C -->\n<g id=\"node3\" class=\"node\">\n<title>C</title>\n<path fill=\"lightgray\" stroke=\"black\" d=\"M79,-94C79,-94 12,-94 12,-94 6,-94 0,-88 0,-82 0,-82 0,-68 0,-68 0,-62 6,-56 12,-56 12,-56 79,-56 79,-56 85,-56 91,-62 91,-68 91,-68 91,-82 91,-82 91,-88 85,-94 79,-94\"/>\n<text text-anchor=\"middle\" x=\"45.5\" y=\"-78.8\" font-family=\"Times,serif\" font-size=\"14.00\">Client C</text>\n<text text-anchor=\"middle\" x=\"45.5\" y=\"-63.8\" font-family=\"Times,serif\" font-size=\"14.00\">Local Journal</text>\n</g>\n<!-- C&#45;&gt;Hub -->\n<g id=\"edge3\" class=\"edge\">\n<title>C-&gt;Hub</title>\n<path fill=\"none\" stroke=\"black\" d=\"M91.41,-77.75C91.41,-77.75 156.89,-77.75 156.89,-77.75\"/>\n<polygon fill=\"black\" stroke=\"black\" points=\"166.89,-77.75 156.89,-82.25 161.89,-77.75 156.89,-77.75 156.89,-77.75 156.89,-77.75 161.89,-77.75 156.89,-73.25 166.89,-77.75 166.89,-77.75\"/>\n<text text-anchor=\"middle\" x=\"129\" y=\"-78.8\" font-family=\"Times,serif\" font-size=\"14.00\">append</text>\n</g>\n<!-- D -->\n<g id=\"node4\" class=\"node\">\n<title>D</title>\n<path fill=\"lightgray\" stroke=\"black\" d=\"M79,-38C79,-38 12,-38 12,-38 6,-38 0,-32 0,-26 0,-26 0,-12 0,-12 0,-6 6,0 12,0 12,0 79,0 79,0 85,0 91,-6 91,-12 91,-12 91,-26 91,-26 91,-32 85,-38 79,-38\"/>\n<text text-anchor=\"middle\" x=\"45.5\" y=\"-22.8\" font-family=\"Times,serif\" font-size=\"14.00\">Client D</text>\n<text text-anchor=\"middle\" x=\"45.5\" y=\"-7.8\" font-family=\"Times,serif\" font-size=\"14.00\">Local Journal</text>\n</g>\n<!-- D&#45;&gt;Hub -->\n<g id=\"edge4\" class=\"edge\">\n<title>D-&gt;Hub</title>\n<path fill=\"none\" stroke=\"black\" d=\"M91.41,-19C143.71,-19 222,-19 222,-19 222,-19 222,-51.49 222,-51.49\"/>\n<polygon fill=\"black\" stroke=\"black\" points=\"222,-61.49 217.5,-51.49 222,-56.49 222,-51.49 222,-51.49 222,-51.49 222,-56.49 226.5,-51.49 222,-61.49 222,-61.49\"/>\n<text text-anchor=\"middle\" x=\"129\" y=\"-22.8\" font-family=\"Times,serif\" font-size=\"14.00\">append</text>\n</g>\n</g>\n</svg>"
          },
          "metadata": {}
        }
      ],
      "source": [
        "from graphviz import Digraph\n",
        "from IPython.display import SVG, display\n",
        "\n",
        "# Build ledger architecture diagram\n",
        "dot = Digraph(name=\"MetadataLedger\", format=\"svg\")\n",
        "dot.attr(rankdir=\"LR\", splines=\"ortho\")\n",
        "\n",
        "# Client journals\n",
        "dot.node(\"A\", \"Client A\\nLocal Journal\", shape=\"box\", style=\"rounded,filled\", fillcolor=\"lightgray\")\n",
        "dot.node(\"B\", \"Client B\\nLocal Journal\", shape=\"box\", style=\"rounded,filled\", fillcolor=\"lightgray\")\n",
        "dot.node(\"C\", \"Client C\\nLocal Journal\", shape=\"box\", style=\"rounded,filled\", fillcolor=\"lightgray\")\n",
        "dot.node(\"D\", \"Client D\\nLocal Journal\", shape=\"box\", style=\"rounded,filled\", fillcolor=\"lightgray\")\n",
        "\n",
        "# Hub ledger\n",
        "dot.node(\"Hub\", \"Hub-Side Ledger\\n• Row 1\\n• Row 2\\n• ...\\n• Row n\", shape=\"folder\", style=\"filled\", fillcolor=\"white\")\n",
        "\n",
        "# Edges\n",
        "dot.edge(\"A\", \"Hub\", label=\"append\", arrowhead=\"vee\")\n",
        "dot.edge(\"B\", \"Hub\", label=\"append\", arrowhead=\"vee\")\n",
        "dot.edge(\"C\", \"Hub\", label=\"append\", arrowhead=\"vee\")\n",
        "dot.edge(\"D\", \"Hub\", label=\"append\", arrowhead=\"vee\")\n",
        "\n",
        "\n",
        "# Render and display\n",
        "svg_bytes = dot.pipe(format='svg')\n",
        "display(SVG(svg_bytes))\n"
      ]
    },
    {
      "cell_type": "code",
      "source": [
        "from graphviz import Digraph\n",
        "\n",
        "dot = Digraph('MetadataLedger', format='png')\n",
        "dot.attr(rankdir='LR', fontsize='11', fontname='Helvetica', nodesep='0.5', ranksep='0.8')\n",
        "\n",
        "# Global styling\n",
        "dot.attr('node', shape='none', fontname='Helvetica')\n",
        "dot.attr('edge', arrowsize='0.7', fontname='Helvetica')\n",
        "\n",
        "# Clients\n",
        "with dot.subgraph(name='cluster_clients') as c:\n",
        "    c.attr(style='rounded', color='#3a7ca5', label='Data Providers', fontsize='12', fontcolor='#3a7ca5')\n",
        "    for client in ['Client A', 'Client B', 'Client C', 'Client D']:\n",
        "        c.node(client, f'''<\n",
        "            <TABLE BORDER=\"0\" CELLBORDER=\"1\" CELLSPACING=\"0\" CELLPADDING=\"4\">\n",
        "                <TR><TD ALIGN=\"LEFT\"><B>{client}</B></TD></TR>\n",
        "                <TR><TD ALIGN=\"LEFT\">Local Journal/Ledger </TD></TR>\n",
        "            </TABLE>>''')\n",
        "\n",
        "# Hub processing\n",
        "dot.node('Hub', '''<\n",
        "    <TABLE BORDER=\"0\" CELLBORDER=\"1\" CELLSPACING=\"0\" CELLPADDING=\"6\" BGCOLOR=\"#f8f8f8\">\n",
        "        <TR><TD ALIGN=\"CENTER\" COLSPAN=\"2\"><B>Bundle Validation</B></TD></TR>\n",
        "        <TR><TD ALIGN=\"LEFT\" COLSPAN=\"2\">• Check schema compliance</TD></TR>\n",
        "        <TR><TD ALIGN=\"LEFT\" COLSPAN=\"2\">• Verify TxID uniqueness</TD></TR>\n",
        "        <TR><TD ALIGN=\"LEFT\" COLSPAN=\"2\">• Verify digital signatures</TD></TR>\n",
        "        <TR><TD ALIGN=\"LEFT\" COLSPAN=\"2\">• Apply pScore policy</TD></TR>\n",
        "        <TR>\n",
        "            <TD ALIGN=\"LEFT\" BGCOLOR=\"#e1f5e1\">ACCEPT</TD>\n",
        "            <TD ALIGN=\"LEFT\" BGCOLOR=\"#fff3e0\">REVIEW</TD>\n",
        "        </TR>\n",
        "        <TR>\n",
        "            <TD ALIGN=\"LEFT\" BGCOLOR=\"#ffebee\">QUARANTINE</TD>\n",
        "            <TD></TD>\n",
        "        </TR>\n",
        "    </TABLE>>''')\n",
        "\n",
        "# Ledger\n",
        "dot.node('Ledger', '''<\n",
        "    <TABLE BORDER=\"0\" CELLBORDER=\"1\" CELLSPACING=\"0\" CELLPADDING=\"6\" BGCOLOR=\"#f0f7ff\">\n",
        "        <TR><TD ALIGN=\"CENTER\"><B>Hub-Side Ledger</B></TD></TR>\n",
        "        <TR><TD ALIGN=\"CENTER\"><I>Append-only record</I></TD></TR>\n",
        "        <TR><TD ALIGN=\"LEFT\">\n",
        "            <TABLE BORDER=\"0\" CELLBORDER=\"0\" CELLSPACING=\"2\">\n",
        "                <TR><TD ALIGN=\"LEFT\">• tx_id</TD></TR>\n",
        "                <TR><TD ALIGN=\"LEFT\">• timestamp</TD></TR>\n",
        "                <TR><TD ALIGN=\"LEFT\">• client_id</TD></TR>\n",
        "                <TR><TD ALIGN=\"LEFT\">• dataset_id</TD></TR>\n",
        "                <TR><TD ALIGN=\"LEFT\">• pscore</TD></TR>\n",
        "                <TR><TD ALIGN=\"LEFT\">• trust_category</TD></TR>\n",
        "                <TR><TD ALIGN=\"LEFT\">• version_id</TD></TR>\n",
        "                <TR><TD ALIGN=\"LEFT\">• record_count</TD></TR>\n",
        "            </TABLE>\n",
        "        </TD></TR>\n",
        "    </TABLE>>''')\n",
        "\n",
        "# Edges\n",
        "for client in ['Client A', 'Client B', 'Client C', 'Client D']:\n",
        "    dot.edge(client, 'Hub', label='  Submit Bundle', fontsize='10', color='#666666')\n",
        "\n",
        "dot.edge('Hub', 'Ledger', label=' write validated record', fontsize='10', color='#666666')\n",
        "\n",
        "# Layout adjustments\n",
        "dot.attr('graph', margin='0.2', pad='0.5')\n",
        "\n",
        "display(dot)"
      ],
      "metadata": {
        "colab": {
          "base_uri": "https://localhost:8080/",
          "height": 680
        },
        "id": "GYLYDQCWWaNY",
        "outputId": "863199ce-aa19-4f5a-b68c-5b85025308ad"
      },
      "execution_count": 18,
      "outputs": [
        {
          "output_type": "display_data",
          "data": {
            "image/svg+xml": "<?xml version=\"1.0\" encoding=\"UTF-8\" standalone=\"no\"?>\n<!DOCTYPE svg PUBLIC \"-//W3C//DTD SVG 1.1//EN\"\n \"http://www.w3.org/Graphics/SVG/1.1/DTD/svg11.dtd\">\n<!-- Generated by graphviz version 2.43.0 (0)\n -->\n<!-- Title: MetadataLedger Pages: 1 -->\n<svg width=\"906pt\" height=\"494pt\"\n viewBox=\"14.40 14.40 891.40 479.40\" xmlns=\"http://www.w3.org/2000/svg\" xmlns:xlink=\"http://www.w3.org/1999/xlink\">\n<g id=\"graph0\" class=\"graph\" transform=\"scale(1 1) rotate(0) translate(50.4 443.4)\">\n<title>MetadataLedger</title>\n<polygon fill=\"white\" stroke=\"transparent\" points=\"-36,36 -36,-429 841,-429 841,36 -36,36\"/>\n<g id=\"clust1\" class=\"cluster\">\n<title>cluster_clients</title>\n<path fill=\"none\" stroke=\"#3a7ca5\" d=\"M20,-8C20,-8 168,-8 168,-8 174,-8 180,-14 180,-20 180,-20 180,-373 180,-373 180,-379 174,-385 168,-385 168,-385 20,-385 20,-385 14,-385 8,-379 8,-373 8,-373 8,-20 8,-20 8,-14 14,-8 20,-8\"/>\n<text text-anchor=\"middle\" x=\"94\" y=\"-371.4\" font-family=\"Helvetica,sans-Serif\" font-size=\"12.00\" fill=\"#3a7ca5\">Data Providers</text>\n</g>\n<!-- Client A -->\n<g id=\"node1\" class=\"node\">\n<title>Client A</title>\n<polygon fill=\"none\" stroke=\"black\" points=\"24,-327 24,-352 164,-352 164,-327 24,-327\"/>\n<text text-anchor=\"start\" x=\"29\" y=\"-336.8\" font-family=\"Helvetica,sans-Serif\" font-weight=\"bold\" font-size=\"14.00\">Client A</text>\n<polygon fill=\"none\" stroke=\"black\" points=\"24,-302 24,-327 164,-327 164,-302 24,-302\"/>\n<text text-anchor=\"start\" x=\"29\" y=\"-310.8\" font-family=\"Helvetica,sans-Serif\" font-size=\"14.00\">Local Journal/Ledger </text>\n</g>\n<!-- Hub -->\n<g id=\"node5\" class=\"node\">\n<title>Hub</title>\n<polygon fill=\"#f8f8f8\" stroke=\"transparent\" points=\"308,-83.5 308,-286.5 494,-286.5 494,-83.5 308,-83.5\"/>\n<polygon fill=\"none\" stroke=\"black\" points=\"308,-257 308,-286 494,-286 494,-257 308,-257\"/>\n<text text-anchor=\"start\" x=\"344\" y=\"-268.8\" font-family=\"Helvetica,sans-Serif\" font-weight=\"bold\" font-size=\"14.00\">Bundle Validation</text>\n<polygon fill=\"none\" stroke=\"black\" points=\"308,-228 308,-257 494,-257 494,-228 308,-228\"/>\n<text text-anchor=\"start\" x=\"315\" y=\"-238.8\" font-family=\"Helvetica,sans-Serif\" font-size=\"14.00\">• Check schema compliance</text>\n<polygon fill=\"none\" stroke=\"black\" points=\"308,-199 308,-228 494,-228 494,-199 308,-199\"/>\n<text text-anchor=\"start\" x=\"315\" y=\"-209.8\" font-family=\"Helvetica,sans-Serif\" font-size=\"14.00\">• Verify TxID uniqueness</text>\n<polygon fill=\"none\" stroke=\"black\" points=\"308,-170 308,-199 494,-199 494,-170 308,-170\"/>\n<text text-anchor=\"start\" x=\"315\" y=\"-180.8\" font-family=\"Helvetica,sans-Serif\" font-size=\"14.00\">• Verify digital signatures</text>\n<polygon fill=\"none\" stroke=\"black\" points=\"308,-141 308,-170 494,-170 494,-141 308,-141\"/>\n<text text-anchor=\"start\" x=\"315\" y=\"-151.8\" font-family=\"Helvetica,sans-Serif\" font-size=\"14.00\">• Apply pScore policy</text>\n<polygon fill=\"#e1f5e1\" stroke=\"transparent\" points=\"308,-112 308,-141 418,-141 418,-112 308,-112\"/>\n<polygon fill=\"none\" stroke=\"black\" points=\"308,-112 308,-141 418,-141 418,-112 308,-112\"/>\n<text text-anchor=\"start\" x=\"315\" y=\"-122.8\" font-family=\"Helvetica,sans-Serif\" font-size=\"14.00\">ACCEPT</text>\n<polygon fill=\"#fff3e0\" stroke=\"transparent\" points=\"418,-112 418,-141 494,-141 494,-112 418,-112\"/>\n<polygon fill=\"none\" stroke=\"black\" points=\"418,-112 418,-141 494,-141 494,-112 418,-112\"/>\n<text text-anchor=\"start\" x=\"425\" y=\"-122.8\" font-family=\"Helvetica,sans-Serif\" font-size=\"14.00\">REVIEW</text>\n<polygon fill=\"#ffebee\" stroke=\"transparent\" points=\"308,-83 308,-112 418,-112 418,-83 308,-83\"/>\n<polygon fill=\"none\" stroke=\"black\" points=\"308,-83 308,-112 418,-112 418,-83 308,-83\"/>\n<text text-anchor=\"start\" x=\"315\" y=\"-93.8\" font-family=\"Helvetica,sans-Serif\" font-size=\"14.00\">QUARANTINE</text>\n<polygon fill=\"none\" stroke=\"black\" points=\"418,-83 418,-112 494,-112 494,-83 418,-83\"/>\n</g>\n<!-- Client A&#45;&gt;Hub -->\n<g id=\"edge1\" class=\"edge\">\n<title>Client A&#45;&gt;Hub</title>\n<path fill=\"none\" stroke=\"#666666\" d=\"M157.46,-297.92C196.57,-279.71 248,-255.77 293.43,-234.61\"/>\n<polygon fill=\"#666666\" stroke=\"#666666\" points=\"294.49,-236.82 299.8,-231.65 292.42,-232.38 294.49,-236.82\"/>\n<text text-anchor=\"middle\" x=\"236\" y=\"-280\" font-family=\"Helvetica,sans-Serif\" font-size=\"10.00\"> &#160;Submit Bundle</text>\n</g>\n<!-- Client B -->\n<g id=\"node2\" class=\"node\">\n<title>Client B</title>\n<polygon fill=\"none\" stroke=\"black\" points=\"24,-233 24,-258 164,-258 164,-233 24,-233\"/>\n<text text-anchor=\"start\" x=\"29\" y=\"-242.8\" font-family=\"Helvetica,sans-Serif\" font-weight=\"bold\" font-size=\"14.00\">Client B</text>\n<polygon fill=\"none\" stroke=\"black\" points=\"24,-208 24,-233 164,-233 164,-208 24,-208\"/>\n<text text-anchor=\"start\" x=\"29\" y=\"-216.8\" font-family=\"Helvetica,sans-Serif\" font-size=\"14.00\">Local Journal/Ledger </text>\n</g>\n<!-- Client B&#45;&gt;Hub -->\n<g id=\"edge2\" class=\"edge\">\n<title>Client B&#45;&gt;Hub</title>\n<path fill=\"none\" stroke=\"#666666\" d=\"M172.36,-220.83C208.83,-215.09 252.94,-208.14 292.58,-201.9\"/>\n<polygon fill=\"#666666\" stroke=\"#666666\" points=\"293.4,-204.26 299.93,-200.75 292.63,-199.42 293.4,-204.26\"/>\n<text text-anchor=\"middle\" x=\"236\" y=\"-219\" font-family=\"Helvetica,sans-Serif\" font-size=\"10.00\"> &#160;Submit Bundle</text>\n</g>\n<!-- Client C -->\n<g id=\"node3\" class=\"node\">\n<title>Client C</title>\n<polygon fill=\"none\" stroke=\"black\" points=\"24,-139 24,-164 164,-164 164,-139 24,-139\"/>\n<text text-anchor=\"start\" x=\"29\" y=\"-148.8\" font-family=\"Helvetica,sans-Serif\" font-weight=\"bold\" font-size=\"14.00\">Client C</text>\n<polygon fill=\"none\" stroke=\"black\" points=\"24,-114 24,-139 164,-139 164,-114 24,-114\"/>\n<text text-anchor=\"start\" x=\"29\" y=\"-122.8\" font-family=\"Helvetica,sans-Serif\" font-size=\"14.00\">Local Journal/Ledger </text>\n</g>\n<!-- Client C&#45;&gt;Hub -->\n<g id=\"edge3\" class=\"edge\">\n<title>Client C&#45;&gt;Hub</title>\n<path fill=\"none\" stroke=\"#666666\" d=\"M172.36,-150.67C208.83,-156.17 252.94,-162.82 292.58,-168.8\"/>\n<polygon fill=\"#666666\" stroke=\"#666666\" points=\"292.64,-171.29 299.93,-169.91 293.37,-166.44 292.64,-171.29\"/>\n<text text-anchor=\"middle\" x=\"236\" y=\"-167\" font-family=\"Helvetica,sans-Serif\" font-size=\"10.00\"> &#160;Submit Bundle</text>\n</g>\n<!-- Client D -->\n<g id=\"node4\" class=\"node\">\n<title>Client D</title>\n<polygon fill=\"none\" stroke=\"black\" points=\"24,-45 24,-70 164,-70 164,-45 24,-45\"/>\n<text text-anchor=\"start\" x=\"29\" y=\"-54.8\" font-family=\"Helvetica,sans-Serif\" font-weight=\"bold\" font-size=\"14.00\">Client D</text>\n<polygon fill=\"none\" stroke=\"black\" points=\"24,-20 24,-45 164,-45 164,-20 24,-20\"/>\n<text text-anchor=\"start\" x=\"29\" y=\"-28.8\" font-family=\"Helvetica,sans-Serif\" font-size=\"14.00\">Local Journal/Ledger </text>\n</g>\n<!-- Client D&#45;&gt;Hub -->\n<g id=\"edge4\" class=\"edge\">\n<title>Client D&#45;&gt;Hub</title>\n<path fill=\"none\" stroke=\"#666666\" d=\"M158.2,-74.01C197.19,-91.91 248.22,-115.33 293.35,-136.05\"/>\n<polygon fill=\"#666666\" stroke=\"#666666\" points=\"292.58,-138.39 299.96,-139.08 294.62,-133.93 292.58,-138.39\"/>\n<text text-anchor=\"middle\" x=\"236\" y=\"-126\" font-family=\"Helvetica,sans-Serif\" font-size=\"10.00\"> &#160;Submit Bundle</text>\n</g>\n<!-- Ledger -->\n<g id=\"node6\" class=\"node\">\n<title>Ledger</title>\n<polygon fill=\"#f0f7ff\" stroke=\"transparent\" points=\"665,-64 665,-306 797,-306 797,-64 665,-64\"/>\n<polygon fill=\"none\" stroke=\"black\" points=\"665,-277 665,-306 797,-306 797,-277 665,-277\"/>\n<text text-anchor=\"start\" x=\"676.5\" y=\"-288.8\" font-family=\"Helvetica,sans-Serif\" font-weight=\"bold\" font-size=\"14.00\">Hub&#45;Side Ledger</text>\n<polygon fill=\"none\" stroke=\"black\" points=\"665,-248 665,-277 797,-277 797,-248 665,-248\"/>\n<text text-anchor=\"start\" x=\"672\" y=\"-259.8\" font-family=\"Helvetica,sans-Serif\" font-style=\"italic\" font-size=\"14.00\">Append&#45;only record</text>\n<polygon fill=\"none\" stroke=\"black\" points=\"665,-64 665,-248 797,-248 797,-64 665,-64\"/>\n<text text-anchor=\"start\" x=\"676\" y=\"-225.8\" font-family=\"Helvetica,sans-Serif\" font-size=\"14.00\">• tx_id</text>\n<text text-anchor=\"start\" x=\"676\" y=\"-204.8\" font-family=\"Helvetica,sans-Serif\" font-size=\"14.00\">• timestamp</text>\n<text text-anchor=\"start\" x=\"676\" y=\"-183.8\" font-family=\"Helvetica,sans-Serif\" font-size=\"14.00\">• client_id</text>\n<text text-anchor=\"start\" x=\"676\" y=\"-162.8\" font-family=\"Helvetica,sans-Serif\" font-size=\"14.00\">• dataset_id</text>\n<text text-anchor=\"start\" x=\"676\" y=\"-141.8\" font-family=\"Helvetica,sans-Serif\" font-size=\"14.00\">• pscore</text>\n<text text-anchor=\"start\" x=\"676\" y=\"-120.8\" font-family=\"Helvetica,sans-Serif\" font-size=\"14.00\">• trust_category</text>\n<text text-anchor=\"start\" x=\"676\" y=\"-99.8\" font-family=\"Helvetica,sans-Serif\" font-size=\"14.00\">• version_id</text>\n<text text-anchor=\"start\" x=\"676\" y=\"-78.8\" font-family=\"Helvetica,sans-Serif\" font-size=\"14.00\">• record_count</text>\n</g>\n<!-- Hub&#45;&gt;Ledger -->\n<g id=\"edge5\" class=\"edge\">\n<title>Hub&#45;&gt;Ledger</title>\n<path fill=\"none\" stroke=\"#666666\" d=\"M502.19,-185C549.58,-185 605.39,-185 649.91,-185\"/>\n<polygon fill=\"#666666\" stroke=\"#666666\" points=\"649.96,-187.45 656.96,-185 649.96,-182.55 649.96,-187.45\"/>\n<text text-anchor=\"middle\" x=\"579.5\" y=\"-188\" font-family=\"Helvetica,sans-Serif\" font-size=\"10.00\"> write validated record</text>\n</g>\n</g>\n</svg>\n",
            "text/plain": [
              "<graphviz.graphs.Digraph at 0x7ee3e0621d90>"
            ]
          },
          "metadata": {}
        }
      ]
    }
  ]
}